{
 "cells": [
  {
   "cell_type": "markdown",
   "metadata": {
    "colab_type": "text",
    "id": "WDb1ilq8WZ5r"
   },
   "source": [
    "# Fashion MNIST Data Science Challenge: Neural Networks and Deep Learning\n"
   ]
  },
  {
   "cell_type": "markdown",
   "metadata": {},
   "source": [
    "This file contains the code as well as the explanations to our final model."
   ]
  },
  {
   "cell_type": "markdown",
   "metadata": {},
   "source": [
    "## Imports"
   ]
  },
  {
   "cell_type": "code",
   "execution_count": 1,
   "metadata": {
    "colab": {
     "base_uri": "https://localhost:8080/",
     "height": 35
    },
    "colab_type": "code",
    "executionInfo": {
     "elapsed": 4071,
     "status": "ok",
     "timestamp": 1588762079160,
     "user": {
      "displayName": "Philipp Luchner",
      "photoUrl": "",
      "userId": "06440293557215660939"
     },
     "user_tz": -120
    },
    "id": "xTS0YM-sOJyf",
    "outputId": "5e739605-4550-4146-a90e-bd809119b88e"
   },
   "outputs": [],
   "source": [
    "#basic packages\n",
    "import typing\n",
    "import math  # needed by keras\n",
    "import os\n",
    "import shutil\n",
    "import pandas as pd\n",
    "import numpy as np\n",
    "import matplotlib.pyplot as plt\n",
    "import matplotlib.image as mpimg\n",
    "import seaborn as sns\n",
    "import datetime\n",
    "import tensorflow as tf\n",
    "from tensorflow.keras.regularizers import l2\n",
    "from tensorflow.keras.optimizers import SGD\n",
    "from tensorflow.keras.utils import to_categorical, Sequence\n",
    "from tensorflow.keras.models import Sequential\n",
    "from tensorflow.keras.layers import Conv2D,MaxPooling2D,Dense,Flatten,Dropout,BatchNormalization\n",
    "from tensorflow.keras.layers.experimental.preprocessing import Normalization\n",
    "from tensorflow.keras.preprocessing.image import ImageDataGenerator\n",
    "\n",
    "\n",
    "from sklearn.model_selection import train_test_split\n",
    "from sklearn.metrics import confusion_matrix\n",
    "\n",
    "np.random.RandomState(12345)  # Set random state for constant results\n",
    "tf.random.set_seed(12345)"
   ]
  },
  {
   "cell_type": "code",
   "execution_count": 2,
   "metadata": {},
   "outputs": [],
   "source": [
    "# When true explanatory graphs and tensorboard are rendered -> impacts runtime\n",
    "SHOW_EXPLANATORY_GRAPHS = True"
   ]
  },
  {
   "cell_type": "code",
   "execution_count": 3,
   "metadata": {},
   "outputs": [],
   "source": [
    "# Clean up data set cache\n",
    "CACHE_DIR = \"cache\"\n",
    "VALIDATION_CACHE_FILE = os.path.join(CACHE_DIR, \"validation_data_cache.tfcache\")\n",
    "TRAINING_CACHE_FILE = os.path.join(CACHE_DIR, \"training_data_cache.tfcache\")\n",
    "\n",
    "if os.path.isdir(CACHE_DIR):\n",
    "    # delete dir\n",
    "    shutil.rmtree(CACHE_DIR)\n",
    "\n",
    "os.mkdir(CACHE_DIR)\n",
    "\n",
    "if os.path.isfile(VALIDATION_CACHE_FILE):\n",
    "    os.remove(VALIDATION_CACHE_FILE)\n",
    "if os.path.isfile(TRAINING_CACHE_FILE):\n",
    "    os.remove(TRAINING_CACHE_FILE)"
   ]
  },
  {
   "cell_type": "markdown",
   "metadata": {
    "colab_type": "text",
    "id": "z33CvoON9uoF"
   },
   "source": [
    "## Data Preparation and Augmentation"
   ]
  },
  {
   "cell_type": "markdown",
   "metadata": {},
   "source": [
    "  <span style=\"color:red\">*TODO BEWEISE + Methoden*</span>."
   ]
  },
  {
   "cell_type": "markdown",
   "metadata": {},
   "source": [
    "### Random erasing\n",
    "We are using a third-party github repository that implements random_erasing. You can find it [here](https://github.com/yu4u/cutout-random-erasing)."
   ]
  },
  {
   "cell_type": "code",
   "execution_count": 4,
   "metadata": {},
   "outputs": [],
   "source": [
    "# Import random eraser from its python file\n",
    "%run random_eraser/random_eraser"
   ]
  },
  {
   "cell_type": "markdown",
   "metadata": {},
   "source": [
    "### Image rotation and flipping"
   ]
  },
  {
   "cell_type": "code",
   "execution_count": 5,
   "metadata": {},
   "outputs": [],
   "source": [
    "#Image rotation was used for data augmentation. The function names are self-explanatory\n",
    "def flip_image_vertical(image: np.ndarray) -> np.ndarray:      \n",
    "    return np.flip(image, axis=1)\n",
    "\n",
    "def flip_image_horizontal(image: np.ndarray) -> np.ndarray:\n",
    "    return np.flip(image, axis=0)\n",
    "\n",
    "def rotate_270(image: np.ndarray) -> np.ndarray:\n",
    "    return np.rot90(image, -1)\n",
    "\n",
    "def rotate_90(image: np.ndarray) -> np.ndarray:\n",
    "    return np.rot90(image, 1)"
   ]
  },
  {
   "cell_type": "code",
   "execution_count": 6,
   "metadata": {},
   "outputs": [],
   "source": [
    "def augment_images(input_data: np.ndarray)->typing.Tuple[np.ndarray, np.ndarray, np.ndarray, np.ndarray]:\n",
    "    flipped_images_vertical = np.empty(shape=input_data.shape)\n",
    "    flipped_images_horizontal = np.empty(shape=input_data.shape)\n",
    "    rot_images_90 = np.empty(shape=input_data.shape)\n",
    "    rot_images_270 = np.empty(shape=input_data.shape)\n",
    "    \n",
    "    for ind, im in enumerate(input_data):\n",
    "        flipped_images_vertical[ind] = flip_image_vertical(im)\n",
    "        flipped_images_horizontal[ind] = flip_image_horizontal(im)\n",
    "        rot_images_90[ind] = rotate_90(im)\n",
    "        rot_images_270[ind] = rotate_270(im)\n",
    "        \n",
    "    return flipped_images_vertical, flipped_images_horizontal, rot_images_90, rot_images_270"
   ]
  },
  {
   "cell_type": "code",
   "execution_count": 7,
   "metadata": {},
   "outputs": [],
   "source": [
    "# About 50% Chance that any augmentation happens\n",
    "ROTATION_CHANCE = 0.1\n",
    "FLIP_CHANCE = 0.2 # actually 0.1 since tf.image.random_flip_left_right has 0.5 chance\n",
    "CONSTRAST_CHANCE = 0.2 # actually 0.1 since tf.image.random_contrast has 0.5 chance\n",
    "BRIGHTNESS_CHANCE = 0.2 # actually 0.1 since tf.image.random_brightness has 0.5 chance\n",
    "ERASER_CHANCE = 0.25"
   ]
  },
  {
   "cell_type": "code",
   "execution_count": 8,
   "metadata": {},
   "outputs": [],
   "source": [
    "# function that takes an image as input and creates a randomly augmented image as output\n",
    "def dataset_aumentation(image: tf.Tensor)->np.ndarray:\n",
    "\n",
    "    output_image = image\n",
    "            \n",
    "    ######## ERASER ########\n",
    "    # Uses ndim so convert to numpy array\n",
    "    # Does not work yet\n",
    "    output_image =  get_random_eraser(p=ERASER_CHANCE, s_l=0.04, s_h=0.2, v_l=-1, v_h=1, pixel_level=True)(output_image)\n",
    "    \n",
    "    ######## ROTATE ########\n",
    "    augmentation_chance = np.random.random_sample(size=None)\n",
    "    rotation_amount = np.random.randint(0, high=4)\n",
    "    if (augmentation_chance <= ROTATION_CHANCE):\n",
    "        # rotation_amount to degrees:\n",
    "        # 0 = 0°\n",
    "        # 1 = 90°\n",
    "        # 2 = 180°\n",
    "        # 3 = 270°\n",
    "        # 4 (not possible) = 360° = 0°\n",
    "        output_image = tf.image.rot90(output_image, k=rotation_amount)\n",
    "    \n",
    "    ######## FLIP ########\n",
    "    augmentation_chance = np.random.random_sample(size=None)\n",
    "    if (augmentation_chance <= FLIP_CHANCE):\n",
    "        output_image = tf.image.random_flip_left_right(output_image, seed=12345)\n",
    "        \n",
    "    ######## CONTRAST ########\n",
    "    augmentation_chance = np.random.random_sample(size=None)\n",
    "    if (augmentation_chance <= CONSTRAST_CHANCE):\n",
    "        output_image = tf.image.random_contrast(output_image, 0.2, 0.5, seed=12345) \n",
    "        \n",
    "    ######## BRIGHTNESS ########\n",
    "    augmentation_chance = np.random.random_sample(size=None)\n",
    "    if (augmentation_chance <= BRIGHTNESS_CHANCE):\n",
    "        output_image = tf.image.random_brightness(output_image, 0.2, seed=12345) \n",
    "        \n",
    "    return output_image"
   ]
  },
  {
   "cell_type": "code",
   "execution_count": 9,
   "metadata": {},
   "outputs": [],
   "source": [
    "# Using this as a reference: https://www.tensorflow.org/api_docs/python/tf/keras/utils/Sequence\n",
    "# Create a call for data set augmentation every epoch\n",
    "class AugmentationSequence(Sequence):\n",
    "    def __init__(self, x_set, y_set, batch_size, augmentation_func:typing.Callable=None):\n",
    "        self.x, self.y = x_set, y_set\n",
    "        self.batch_size = batch_size\n",
    "        self.augmentation_func = augmentation_func\n",
    "        self.augment_batches = augmentation_func is not None\n",
    "\n",
    "    def __len__(self):\n",
    "        return math.ceil(len(self.x) / self.batch_size)\n",
    "\n",
    "    def __getitem__(self, idx):\n",
    "        batch_x = self.x[idx * self.batch_size:(idx + 1) *\n",
    "        self.batch_size]\n",
    "        batch_y = self.y[idx * self.batch_size:(idx + 1) *\n",
    "        self.batch_size]\n",
    "        \n",
    "        if self.augment_batches:\n",
    "            return np.array([self.augmentation_func(tensor) for tensor in batch_x]), np.array(batch_y)\n",
    "        else:\n",
    "            return np.array(batch_x), np.array(batch_y)"
   ]
  },
  {
   "cell_type": "markdown",
   "metadata": {},
   "source": [
    "### Data Preparation"
   ]
  },
  {
   "cell_type": "code",
   "execution_count": 10,
   "metadata": {
    "colab": {},
    "colab_type": "code",
    "id": "4Fptwh8hO62p"
   },
   "outputs": [],
   "source": [
    "#1. Get the file\n",
    "data_train = pd.read_csv('train.csv')\n",
    "data_validate = pd.read_csv('test.csv')\n",
    "data_train = np.array(data_train, dtype = 'float32') # Damit Input Daten von Keras akzeptiert werden müssen wir sie in ein Array umwandeln \n",
    "data_validate = np.array(data_validate, dtype='float32') "
   ]
  },
  {
   "cell_type": "code",
   "execution_count": 11,
   "metadata": {},
   "outputs": [],
   "source": [
    "# Since we are using a Normalization layer and a Dataset, the preprocessing is only \n",
    "# reshaping the arrays and splitting the sets\n",
    "x_train = data_train[:,1:]\n",
    "y_train = data_train[:,0] #label data\n",
    "\n",
    "data_submission = data_validate"
   ]
  },
  {
   "cell_type": "code",
   "execution_count": 12,
   "metadata": {},
   "outputs": [],
   "source": [
    "#reshape the array containing the images (28px x 28px and 1 channel)\n",
    "image_rows = 28\n",
    "image_cols = 28\n",
    "image_shape = (image_rows,image_cols,1)# 1 da schwarz weiß, bei Farbbildern 3 (r,g,b)\n",
    "\n",
    "x_train = x_train.reshape(x_train.shape[0],*image_shape)\n",
    "data_submission = data_submission.reshape(data_submission.shape[0],*image_shape)"
   ]
  },
  {
   "cell_type": "code",
   "execution_count": 13,
   "metadata": {},
   "outputs": [],
   "source": [
    "#split train data in train and validation set\n",
    "x_train2,x_validate2,y_train2,y_validate2 = train_test_split(x_train,y_train,test_size = 0.2,random_state = 12345)"
   ]
  },
  {
   "cell_type": "markdown",
   "metadata": {
    "colab_type": "text",
    "id": "lzVKM7ow9yyu"
   },
   "source": [
    "## Modeling"
   ]
  },
  {
   "cell_type": "markdown",
   "metadata": {},
   "source": [
    "### Parameters"
   ]
  },
  {
   "cell_type": "markdown",
   "metadata": {},
   "source": [
    "Mostly we decided our parameters by doing hyperparameter tuning via trial and error."
   ]
  },
  {
   "cell_type": "code",
   "execution_count": 14,
   "metadata": {},
   "outputs": [],
   "source": [
    "#@felix dein code hier\n",
    "NUM_EPOCHS = 200\n",
    "INIT_LR = 1e-3\n",
    "BATCH_SIZE = 128\n",
    "L2_PENALTY = 0.003"
   ]
  },
  {
   "cell_type": "markdown",
   "metadata": {},
   "source": [
    "#### Optimizer\n",
    "There are multiple articles mentioning SGD as the best optimizer in the long term.\n",
    "[This article](https://shaoanlu.wordpress.com/2017/05/29/sgd-all-which-one-is-the-best-optimizer-dogs-vs-cats-toy-experiment/) compares the Adam and SGD optimizer and concludes that SGD with momentum and Nesterov results in a better validation accuracy.\n",
    "Other articles suggest that even though Adam is faster in the beginning but SGD has better convergence in the long run.\n",
    "\n",
    "Even though SGD might take more epochs to train, the network's accuracy ends up to be more stable."
   ]
  },
  {
   "cell_type": "code",
   "execution_count": 15,
   "metadata": {},
   "outputs": [],
   "source": [
    "our_optimizer = SGD(lr=INIT_LR, momentum=0.9, decay=INIT_LR/max(NUM_EPOCHS, 1))  # max to prevent divide by 0"
   ]
  },
  {
   "cell_type": "markdown",
   "metadata": {},
   "source": [
    "#### Loss Function\n",
    "  <span style=\"color:red\">*Explanation*</span>.\n",
    "  The aim of this chapter is to evaluate the best loss function on an architecture. We do this by taking a subset of the training. Then we train our models with the different loss functions. Note that all loss functions are trained with the same data. After the training we evaluate the accuracy with: 1. training sample and 2. validation sample for our loss functions. To ensure that we are statistically correct we repeat this `n_survey` times. We aggregate by taking the mean of all  `n_survey` as well as the variance."
   ]
  },
  {
   "cell_type": "code",
   "execution_count": 16,
   "metadata": {},
   "outputs": [
    {
     "name": "stdout",
     "output_type": "stream",
     "text": [
      "__________  0.0 % __________\n",
      "\n",
      " sparse categorical crossentropy: acc  0.8905 , val acc:  0.8919\n"
     ]
    },
    {
     "ename": "KeyboardInterrupt",
     "evalue": "",
     "output_type": "error",
     "traceback": [
      "\u001b[0;31m---------------------------------------------------------------------------\u001b[0m",
      "\u001b[0;31mKeyboardInterrupt\u001b[0m                         Traceback (most recent call last)",
      "\u001b[0;32m<ipython-input-16-262fdff7d628>\u001b[0m in \u001b[0;36m<module>\u001b[0;34m\u001b[0m\n\u001b[1;32m     75\u001b[0m \u001b[0;34m\u001b[0m\u001b[0m\n\u001b[1;32m     76\u001b[0m                 \u001b[0;31m# train model\u001b[0m\u001b[0;34m\u001b[0m\u001b[0;34m\u001b[0m\u001b[0;34m\u001b[0m\u001b[0m\n\u001b[0;32m---> 77\u001b[0;31m                 wsimple = msimple.fit(x_tr,to_categorical(y_tr),epochs=n_epoch,verbose=0,\n\u001b[0m\u001b[1;32m     78\u001b[0m                                       \u001b[0mbatch_size\u001b[0m\u001b[0;34m=\u001b[0m\u001b[0;36m64\u001b[0m\u001b[0;34m,\u001b[0m\u001b[0;34m\u001b[0m\u001b[0;34m\u001b[0m\u001b[0m\n\u001b[1;32m     79\u001b[0m                                       validation_data=(x_val,to_categorical(y_val)))\n",
      "\u001b[0;32m~/opt/anaconda3/lib/python3.8/site-packages/tensorflow/python/keras/engine/training.py\u001b[0m in \u001b[0;36mfit\u001b[0;34m(self, x, y, batch_size, epochs, verbose, callbacks, validation_split, validation_data, shuffle, class_weight, sample_weight, initial_epoch, steps_per_epoch, validation_steps, validation_batch_size, validation_freq, max_queue_size, workers, use_multiprocessing)\u001b[0m\n\u001b[1;32m   1098\u001b[0m                 _r=1):\n\u001b[1;32m   1099\u001b[0m               \u001b[0mcallbacks\u001b[0m\u001b[0;34m.\u001b[0m\u001b[0mon_train_batch_begin\u001b[0m\u001b[0;34m(\u001b[0m\u001b[0mstep\u001b[0m\u001b[0;34m)\u001b[0m\u001b[0;34m\u001b[0m\u001b[0;34m\u001b[0m\u001b[0m\n\u001b[0;32m-> 1100\u001b[0;31m               \u001b[0mtmp_logs\u001b[0m \u001b[0;34m=\u001b[0m \u001b[0mself\u001b[0m\u001b[0;34m.\u001b[0m\u001b[0mtrain_function\u001b[0m\u001b[0;34m(\u001b[0m\u001b[0miterator\u001b[0m\u001b[0;34m)\u001b[0m\u001b[0;34m\u001b[0m\u001b[0;34m\u001b[0m\u001b[0m\n\u001b[0m\u001b[1;32m   1101\u001b[0m               \u001b[0;32mif\u001b[0m \u001b[0mdata_handler\u001b[0m\u001b[0;34m.\u001b[0m\u001b[0mshould_sync\u001b[0m\u001b[0;34m:\u001b[0m\u001b[0;34m\u001b[0m\u001b[0;34m\u001b[0m\u001b[0m\n\u001b[1;32m   1102\u001b[0m                 \u001b[0mcontext\u001b[0m\u001b[0;34m.\u001b[0m\u001b[0masync_wait\u001b[0m\u001b[0;34m(\u001b[0m\u001b[0;34m)\u001b[0m\u001b[0;34m\u001b[0m\u001b[0;34m\u001b[0m\u001b[0m\n",
      "\u001b[0;32m~/opt/anaconda3/lib/python3.8/site-packages/tensorflow/python/eager/def_function.py\u001b[0m in \u001b[0;36m__call__\u001b[0;34m(self, *args, **kwds)\u001b[0m\n\u001b[1;32m    826\u001b[0m     \u001b[0mtracing_count\u001b[0m \u001b[0;34m=\u001b[0m \u001b[0mself\u001b[0m\u001b[0;34m.\u001b[0m\u001b[0mexperimental_get_tracing_count\u001b[0m\u001b[0;34m(\u001b[0m\u001b[0;34m)\u001b[0m\u001b[0;34m\u001b[0m\u001b[0;34m\u001b[0m\u001b[0m\n\u001b[1;32m    827\u001b[0m     \u001b[0;32mwith\u001b[0m \u001b[0mtrace\u001b[0m\u001b[0;34m.\u001b[0m\u001b[0mTrace\u001b[0m\u001b[0;34m(\u001b[0m\u001b[0mself\u001b[0m\u001b[0;34m.\u001b[0m\u001b[0m_name\u001b[0m\u001b[0;34m)\u001b[0m \u001b[0;32mas\u001b[0m \u001b[0mtm\u001b[0m\u001b[0;34m:\u001b[0m\u001b[0;34m\u001b[0m\u001b[0;34m\u001b[0m\u001b[0m\n\u001b[0;32m--> 828\u001b[0;31m       \u001b[0mresult\u001b[0m \u001b[0;34m=\u001b[0m \u001b[0mself\u001b[0m\u001b[0;34m.\u001b[0m\u001b[0m_call\u001b[0m\u001b[0;34m(\u001b[0m\u001b[0;34m*\u001b[0m\u001b[0margs\u001b[0m\u001b[0;34m,\u001b[0m \u001b[0;34m**\u001b[0m\u001b[0mkwds\u001b[0m\u001b[0;34m)\u001b[0m\u001b[0;34m\u001b[0m\u001b[0;34m\u001b[0m\u001b[0m\n\u001b[0m\u001b[1;32m    829\u001b[0m       \u001b[0mcompiler\u001b[0m \u001b[0;34m=\u001b[0m \u001b[0;34m\"xla\"\u001b[0m \u001b[0;32mif\u001b[0m \u001b[0mself\u001b[0m\u001b[0;34m.\u001b[0m\u001b[0m_experimental_compile\u001b[0m \u001b[0;32melse\u001b[0m \u001b[0;34m\"nonXla\"\u001b[0m\u001b[0;34m\u001b[0m\u001b[0;34m\u001b[0m\u001b[0m\n\u001b[1;32m    830\u001b[0m       \u001b[0mnew_tracing_count\u001b[0m \u001b[0;34m=\u001b[0m \u001b[0mself\u001b[0m\u001b[0;34m.\u001b[0m\u001b[0mexperimental_get_tracing_count\u001b[0m\u001b[0;34m(\u001b[0m\u001b[0;34m)\u001b[0m\u001b[0;34m\u001b[0m\u001b[0;34m\u001b[0m\u001b[0m\n",
      "\u001b[0;32m~/opt/anaconda3/lib/python3.8/site-packages/tensorflow/python/eager/def_function.py\u001b[0m in \u001b[0;36m_call\u001b[0;34m(self, *args, **kwds)\u001b[0m\n\u001b[1;32m    853\u001b[0m       \u001b[0;31m# In this case we have created variables on the first call, so we run the\u001b[0m\u001b[0;34m\u001b[0m\u001b[0;34m\u001b[0m\u001b[0;34m\u001b[0m\u001b[0m\n\u001b[1;32m    854\u001b[0m       \u001b[0;31m# defunned version which is guaranteed to never create variables.\u001b[0m\u001b[0;34m\u001b[0m\u001b[0;34m\u001b[0m\u001b[0;34m\u001b[0m\u001b[0m\n\u001b[0;32m--> 855\u001b[0;31m       \u001b[0;32mreturn\u001b[0m \u001b[0mself\u001b[0m\u001b[0;34m.\u001b[0m\u001b[0m_stateless_fn\u001b[0m\u001b[0;34m(\u001b[0m\u001b[0;34m*\u001b[0m\u001b[0margs\u001b[0m\u001b[0;34m,\u001b[0m \u001b[0;34m**\u001b[0m\u001b[0mkwds\u001b[0m\u001b[0;34m)\u001b[0m  \u001b[0;31m# pylint: disable=not-callable\u001b[0m\u001b[0;34m\u001b[0m\u001b[0;34m\u001b[0m\u001b[0m\n\u001b[0m\u001b[1;32m    856\u001b[0m     \u001b[0;32melif\u001b[0m \u001b[0mself\u001b[0m\u001b[0;34m.\u001b[0m\u001b[0m_stateful_fn\u001b[0m \u001b[0;32mis\u001b[0m \u001b[0;32mnot\u001b[0m \u001b[0;32mNone\u001b[0m\u001b[0;34m:\u001b[0m\u001b[0;34m\u001b[0m\u001b[0;34m\u001b[0m\u001b[0m\n\u001b[1;32m    857\u001b[0m       \u001b[0;31m# Release the lock early so that multiple threads can perform the call\u001b[0m\u001b[0;34m\u001b[0m\u001b[0;34m\u001b[0m\u001b[0;34m\u001b[0m\u001b[0m\n",
      "\u001b[0;32m~/opt/anaconda3/lib/python3.8/site-packages/tensorflow/python/eager/function.py\u001b[0m in \u001b[0;36m__call__\u001b[0;34m(self, *args, **kwargs)\u001b[0m\n\u001b[1;32m   2940\u001b[0m       (graph_function,\n\u001b[1;32m   2941\u001b[0m        filtered_flat_args) = self._maybe_define_function(args, kwargs)\n\u001b[0;32m-> 2942\u001b[0;31m     return graph_function._call_flat(\n\u001b[0m\u001b[1;32m   2943\u001b[0m         filtered_flat_args, captured_inputs=graph_function.captured_inputs)  # pylint: disable=protected-access\n\u001b[1;32m   2944\u001b[0m \u001b[0;34m\u001b[0m\u001b[0m\n",
      "\u001b[0;32m~/opt/anaconda3/lib/python3.8/site-packages/tensorflow/python/eager/function.py\u001b[0m in \u001b[0;36m_call_flat\u001b[0;34m(self, args, captured_inputs, cancellation_manager)\u001b[0m\n\u001b[1;32m   1916\u001b[0m         and executing_eagerly):\n\u001b[1;32m   1917\u001b[0m       \u001b[0;31m# No tape is watching; skip to running the function.\u001b[0m\u001b[0;34m\u001b[0m\u001b[0;34m\u001b[0m\u001b[0;34m\u001b[0m\u001b[0m\n\u001b[0;32m-> 1918\u001b[0;31m       return self._build_call_outputs(self._inference_function.call(\n\u001b[0m\u001b[1;32m   1919\u001b[0m           ctx, args, cancellation_manager=cancellation_manager))\n\u001b[1;32m   1920\u001b[0m     forward_backward = self._select_forward_and_backward_functions(\n",
      "\u001b[0;32m~/opt/anaconda3/lib/python3.8/site-packages/tensorflow/python/eager/function.py\u001b[0m in \u001b[0;36mcall\u001b[0;34m(self, ctx, args, cancellation_manager)\u001b[0m\n\u001b[1;32m    553\u001b[0m       \u001b[0;32mwith\u001b[0m \u001b[0m_InterpolateFunctionError\u001b[0m\u001b[0;34m(\u001b[0m\u001b[0mself\u001b[0m\u001b[0;34m)\u001b[0m\u001b[0;34m:\u001b[0m\u001b[0;34m\u001b[0m\u001b[0;34m\u001b[0m\u001b[0m\n\u001b[1;32m    554\u001b[0m         \u001b[0;32mif\u001b[0m \u001b[0mcancellation_manager\u001b[0m \u001b[0;32mis\u001b[0m \u001b[0;32mNone\u001b[0m\u001b[0;34m:\u001b[0m\u001b[0;34m\u001b[0m\u001b[0;34m\u001b[0m\u001b[0m\n\u001b[0;32m--> 555\u001b[0;31m           outputs = execute.execute(\n\u001b[0m\u001b[1;32m    556\u001b[0m               \u001b[0mstr\u001b[0m\u001b[0;34m(\u001b[0m\u001b[0mself\u001b[0m\u001b[0;34m.\u001b[0m\u001b[0msignature\u001b[0m\u001b[0;34m.\u001b[0m\u001b[0mname\u001b[0m\u001b[0;34m)\u001b[0m\u001b[0;34m,\u001b[0m\u001b[0;34m\u001b[0m\u001b[0;34m\u001b[0m\u001b[0m\n\u001b[1;32m    557\u001b[0m               \u001b[0mnum_outputs\u001b[0m\u001b[0;34m=\u001b[0m\u001b[0mself\u001b[0m\u001b[0;34m.\u001b[0m\u001b[0m_num_outputs\u001b[0m\u001b[0;34m,\u001b[0m\u001b[0;34m\u001b[0m\u001b[0;34m\u001b[0m\u001b[0m\n",
      "\u001b[0;32m~/opt/anaconda3/lib/python3.8/site-packages/tensorflow/python/eager/execute.py\u001b[0m in \u001b[0;36mquick_execute\u001b[0;34m(op_name, num_outputs, inputs, attrs, ctx, name)\u001b[0m\n\u001b[1;32m     57\u001b[0m   \u001b[0;32mtry\u001b[0m\u001b[0;34m:\u001b[0m\u001b[0;34m\u001b[0m\u001b[0;34m\u001b[0m\u001b[0m\n\u001b[1;32m     58\u001b[0m     \u001b[0mctx\u001b[0m\u001b[0;34m.\u001b[0m\u001b[0mensure_initialized\u001b[0m\u001b[0;34m(\u001b[0m\u001b[0;34m)\u001b[0m\u001b[0;34m\u001b[0m\u001b[0;34m\u001b[0m\u001b[0m\n\u001b[0;32m---> 59\u001b[0;31m     tensors = pywrap_tfe.TFE_Py_Execute(ctx._handle, device_name, op_name,\n\u001b[0m\u001b[1;32m     60\u001b[0m                                         inputs, attrs, num_outputs)\n\u001b[1;32m     61\u001b[0m   \u001b[0;32mexcept\u001b[0m \u001b[0mcore\u001b[0m\u001b[0;34m.\u001b[0m\u001b[0m_NotOkStatusException\u001b[0m \u001b[0;32mas\u001b[0m \u001b[0me\u001b[0m\u001b[0;34m:\u001b[0m\u001b[0;34m\u001b[0m\u001b[0;34m\u001b[0m\u001b[0m\n",
      "\u001b[0;31mKeyboardInterrupt\u001b[0m: "
     ]
    }
   ],
   "source": [
    "# set random seed for dropouts\n",
    "#tf.random.set_seed(53124)  TODO wird schon oben gemacht\n",
    "\n",
    "# set params and seed to reproduce code\n",
    "# np.random.seed(12498)  TODO wird schon oben gemacht\n",
    "if SHOW_EXPLANATORY_GRAPHS:\n",
    "    n_epoch = 4\n",
    "    n_survey = 6\n",
    "    n_models = 3\n",
    "    cnt = 0\n",
    "    # initialize accuracy and its variance\n",
    "    acc = np.zeros((n_epoch,n_models))\n",
    "    acc_sq = np.zeros((n_epoch,n_models))\n",
    "    # initialize validation accuracy and its variance\n",
    "    vacc = np.zeros((n_epoch,n_models))\n",
    "    vacc_sq = np.zeros((n_epoch,n_models))\n",
    "\n",
    "    for ii in np.random.randint(1,100000,n_survey):\n",
    "        # split rain data in train and validation set, use different random states\n",
    "        x_tr,x_val,y_tr,y_val = train_test_split(x_train2,y_train2,test_size = 0.2,random_state = ii)\n",
    "        # update count\n",
    "        print('__________ ',np.round(cnt/n_survey *100),'% __________')\n",
    "        cnt += 1\n",
    "\n",
    "\n",
    "        # iterate through different models\n",
    "        for jj in range(n_models):\n",
    "            if jj==0:\n",
    "                ## sparse categorical crossentropy\n",
    "                # simple baseline model (to beat)\n",
    "                msimple = Sequential([\n",
    "                    Conv2D(64,(3,3),strides=(2,2),padding='same',activation='relu',input_shape=(28,28,1)),\n",
    "                    Conv2D(64,(3,3),strides=(2,2),padding='same',activation='relu'),\n",
    "                    Conv2D(32,(3,3),strides=(1,1),padding='same',activation='relu'),\n",
    "                    Flatten(),\n",
    "                    Dense(256, activation='relu'),\n",
    "                    Dropout(.3),\n",
    "                    Dense(128, activation='relu'),\n",
    "                    Dropout(.3),\n",
    "                    Dense(10,activation='softmax')\n",
    "                ])\n",
    "\n",
    "                # compile model\n",
    "                msimple.compile(optimizer='adam',\n",
    "                                loss='sparse_categorical_crossentropy',\n",
    "                                metrics=['accuracy'])\n",
    "\n",
    "                # train model\n",
    "                wsimple = msimple.fit(x_tr,y_tr,epochs=n_epoch,verbose=0,\n",
    "                                      batch_size=64,\n",
    "                                      validation_data=(x_val,y_val))\n",
    "\n",
    "                print('\\n sparse categorical crossentropy: ',end='')\n",
    "\n",
    "\n",
    "            elif jj==1:\n",
    "                ## categorical crossentropy\n",
    "                # simple baseline model (to beat)\n",
    "                msimple = Sequential([\n",
    "                    Conv2D(64,(3,3),strides=(2,2),padding='same',activation='relu',input_shape=(28,28,1)),\n",
    "                    Conv2D(64,(3,3),strides=(2,2),padding='same',activation='relu'),\n",
    "                    Conv2D(32,(3,3),strides=(1,1),padding='same',activation='relu'),\n",
    "                    Flatten(),\n",
    "                    Dense(256, activation='relu'),\n",
    "                    Dropout(.3),\n",
    "                    Dense(128, activation='relu'),\n",
    "                    Dropout(.3),\n",
    "                    Dense(10,activation='softmax')\n",
    "                ])\n",
    "\n",
    "                # compile model\n",
    "                msimple.compile(optimizer='adam',\n",
    "                                loss='categorical_crossentropy',\n",
    "                                metrics=['accuracy'])\n",
    "\n",
    "                # train model\n",
    "                wsimple = msimple.fit(x_tr,to_categorical(y_tr),epochs=n_epoch,verbose=0,\n",
    "                                      batch_size=64,\n",
    "                                      validation_data=(x_val,to_categorical(y_val)))\n",
    "\n",
    "                print('\\n categorical crossentropy: ', end='')\n",
    "\n",
    "\n",
    "            elif jj==2:\n",
    "                ## categorical hinge\n",
    "                # simple baseline model (to beat)\n",
    "                msimple = Sequential([\n",
    "                    Conv2D(64,(3,3),strides=(2,2),padding='same',activation='relu',input_shape=(28,28,1)),\n",
    "                    Conv2D(64,(3,3),strides=(2,2),padding='same',activation='relu'),\n",
    "                    Conv2D(32,(3,3),strides=(1,1),padding='same',activation='relu'),\n",
    "                    Flatten(),\n",
    "                    Dense(256, activation='relu'),\n",
    "                    Dropout(.3),\n",
    "                    Dense(128, activation='relu'),\n",
    "                    Dropout(.3),\n",
    "                    Dense(10,activation='softmax')\n",
    "                ])\n",
    "\n",
    "                # compile model\n",
    "                msimple.compile(optimizer='adam',\n",
    "                                loss='categorical_hinge',\n",
    "                                metrics=['accuracy'])\n",
    "\n",
    "                # train model\n",
    "                wsimple = msimple.fit(x_tr,to_categorical(y_tr),epochs=n_epoch,verbose=0,\n",
    "                                      batch_size=64,\n",
    "                                      validation_data=(x_val,to_categorical(y_val)))\n",
    "\n",
    "                print('\\n categorical hinge: ',end='')\n",
    "\n",
    "            # save model acc\n",
    "            tmp1 = wsimple.history['accuracy']\n",
    "            acc[:,jj] += np.copy(tmp1) /n_survey\n",
    "            acc_sq[:,jj] += np.copy(tmp1)**2 /n_survey\n",
    "            tmp2 = wsimple.history['val_accuracy']\n",
    "            vacc[:,jj] += np.copy(tmp2) /n_survey\n",
    "            vacc_sq[:,jj] += np.copy(tmp2)**2 /n_survey\n",
    "            print('acc ',np.round(np.max(tmp1),4),', val acc: ',np.round(np.max(tmp2),4))\n",
    "    "
   ]
  },
  {
   "cell_type": "code",
   "execution_count": 17,
   "metadata": {},
   "outputs": [],
   "source": [
    "if SHOW_EXPLANATORY_GRAPHS:\n",
    "    acc_std_err = (acc_sq - acc**2)**.5\n",
    "    vacc_std_err = (vacc_sq - vacc**2)**.5\n",
    "    models=['sparse categorical crossentropy','categorical crossentropy',\n",
    "           'categorical hinge']\n",
    "    mcolor = ['r','b','y']\n",
    "\n",
    "    fig = plt.figure(figsize=(13,5))\n",
    "    plt.subplot(1,2,1)\n",
    "    plt.title('training accuracy')\n",
    "    for jj in range(n_models):\n",
    "        plt.plot(np.arange(1,5),acc[:,jj],mcolor[jj]+'-', label=models[jj]);\n",
    "        plt.plot(np.arange(1,5),acc[:,jj]+acc_std_err[:,jj],mcolor[jj]+'o');\n",
    "        plt.plot(np.arange(1,5),acc[:,jj]-acc_std_err[:,jj],mcolor[jj]+'o');\n",
    "        plt.legend(loc='lower right');\n",
    "        plt.xlabel('number of epochs');\n",
    "\n",
    "    plt.subplot(1,2,2)\n",
    "    plt.title('validation accuracy')\n",
    "    for jj in range(n_models):\n",
    "        plt.plot(np.arange(1,5),vacc[:,jj],mcolor[jj]+'-', label=models[jj]);\n",
    "        plt.plot(np.arange(1,5),vacc[:,jj]+vacc_std_err[:,jj],mcolor[jj]+'o');\n",
    "        plt.plot(np.arange(1,5),vacc[:,jj]-vacc_std_err[:,jj],mcolor[jj]+'o');\n",
    "        plt.legend(loc='lower right');\n",
    "        plt.xlabel('number of epochs');"
   ]
  },
  {
   "cell_type": "markdown",
   "metadata": {},
   "source": [
    "Solid lines in the plots indicate the mean over `n_survey` (=6) rounds. The dots are the standard errors. We conclude, that the `categorical_entropy` and `sparse_categorical_crossentropy` are the loss functions we want to consider further. As it turned out, the loss function below it the best for our advanced model. "
   ]
  },
  {
   "cell_type": "code",
   "execution_count": 17,
   "metadata": {},
   "outputs": [],
   "source": [
    "our_loss_function = tf.keras.losses.SparseCategoricalCrossentropy(from_logits=True)"
   ]
  },
  {
   "cell_type": "markdown",
   "metadata": {},
   "source": [
    "#### Activation Functions\n",
    "  <span style=\"color:red\">*Explanation*</span>."
   ]
  },
  {
   "cell_type": "code",
   "execution_count": 18,
   "metadata": {
    "colab": {},
    "colab_type": "code",
    "id": "B8Ao3wx_TAzZ"
   },
   "outputs": [],
   "source": [
    "model = Sequential([\n",
    "        # Normalize values from [0,255) to [-1, 1)\n",
    "        Normalization(input_shape=x_train.shape[1:]),\n",
    "    \n",
    "        #3 convolutional layers followed by a max pooling layer\n",
    "        Conv2D(32, kernel_size=3, activation='relu', padding='same', kernel_regularizer=l2(L2_PENALTY)),\n",
    "        BatchNormalization(),\n",
    "        Conv2D(32, kernel_size=3, activation='relu', padding='same', kernel_regularizer=l2(L2_PENALTY)),\n",
    "        BatchNormalization(),\n",
    "        Conv2D(32, kernel_size=3, activation='relu', padding='same', kernel_regularizer=l2(L2_PENALTY)),\n",
    "        BatchNormalization(),\n",
    "        MaxPooling2D(pool_size=(2, 2)),\n",
    "        Dropout(0.25),\n",
    "        \n",
    "        #next 3 convolutional layers followed by max pooling layer\n",
    "        Conv2D(64, kernel_size=3, activation='relu', padding='same', kernel_regularizer=l2(L2_PENALTY)),\n",
    "        BatchNormalization(),\n",
    "        Conv2D(64, kernel_size=3, activation='relu', padding='same', kernel_regularizer=l2(L2_PENALTY)),\n",
    "        BatchNormalization(),\n",
    "        Conv2D(64, kernel_size=3, activation='relu', padding='same', kernel_regularizer=l2(L2_PENALTY)),\n",
    "        BatchNormalization(),\n",
    "        MaxPooling2D(pool_size=(2, 2)),\n",
    "        Dropout(0.25),\n",
    "    \n",
    "        #3 dense layers followed by output layer\n",
    "        Flatten(),\n",
    "        Dense(256, activation='relu', kernel_regularizer=l2(L2_PENALTY)),\n",
    "        BatchNormalization(),\n",
    "        Dense(256, activation='relu', kernel_regularizer=l2(L2_PENALTY)),\n",
    "        Dropout(0.25),\n",
    "\n",
    "        Dense(256, activation='relu', kernel_regularizer=l2(L2_PENALTY)),\n",
    "        Dropout(0.5),\n",
    "        Dense(10, activation='softmax')\n",
    "    ])"
   ]
  },
  {
   "cell_type": "code",
   "execution_count": 19,
   "metadata": {},
   "outputs": [
    {
     "name": "stdout",
     "output_type": "stream",
     "text": [
      "Model: \"sequential_2\"\n",
      "_________________________________________________________________\n",
      "Layer (type)                 Output Shape              Param #   \n",
      "=================================================================\n",
      "normalization (Normalization (None, 28, 28, 1)         3         \n",
      "_________________________________________________________________\n",
      "conv2d_6 (Conv2D)            (None, 28, 28, 32)        320       \n",
      "_________________________________________________________________\n",
      "batch_normalization (BatchNo (None, 28, 28, 32)        128       \n",
      "_________________________________________________________________\n",
      "conv2d_7 (Conv2D)            (None, 28, 28, 32)        9248      \n",
      "_________________________________________________________________\n",
      "batch_normalization_1 (Batch (None, 28, 28, 32)        128       \n",
      "_________________________________________________________________\n",
      "conv2d_8 (Conv2D)            (None, 28, 28, 32)        9248      \n",
      "_________________________________________________________________\n",
      "batch_normalization_2 (Batch (None, 28, 28, 32)        128       \n",
      "_________________________________________________________________\n",
      "max_pooling2d (MaxPooling2D) (None, 14, 14, 32)        0         \n",
      "_________________________________________________________________\n",
      "dropout_4 (Dropout)          (None, 14, 14, 32)        0         \n",
      "_________________________________________________________________\n",
      "conv2d_9 (Conv2D)            (None, 14, 14, 64)        18496     \n",
      "_________________________________________________________________\n",
      "batch_normalization_3 (Batch (None, 14, 14, 64)        256       \n",
      "_________________________________________________________________\n",
      "conv2d_10 (Conv2D)           (None, 14, 14, 64)        36928     \n",
      "_________________________________________________________________\n",
      "batch_normalization_4 (Batch (None, 14, 14, 64)        256       \n",
      "_________________________________________________________________\n",
      "conv2d_11 (Conv2D)           (None, 14, 14, 64)        36928     \n",
      "_________________________________________________________________\n",
      "batch_normalization_5 (Batch (None, 14, 14, 64)        256       \n",
      "_________________________________________________________________\n",
      "max_pooling2d_1 (MaxPooling2 (None, 7, 7, 64)          0         \n",
      "_________________________________________________________________\n",
      "dropout_5 (Dropout)          (None, 7, 7, 64)          0         \n",
      "_________________________________________________________________\n",
      "flatten_2 (Flatten)          (None, 3136)              0         \n",
      "_________________________________________________________________\n",
      "dense_6 (Dense)              (None, 256)               803072    \n",
      "_________________________________________________________________\n",
      "batch_normalization_6 (Batch (None, 256)               1024      \n",
      "_________________________________________________________________\n",
      "dense_7 (Dense)              (None, 256)               65792     \n",
      "_________________________________________________________________\n",
      "dropout_6 (Dropout)          (None, 256)               0         \n",
      "_________________________________________________________________\n",
      "dense_8 (Dense)              (None, 256)               65792     \n",
      "_________________________________________________________________\n",
      "dropout_7 (Dropout)          (None, 256)               0         \n",
      "_________________________________________________________________\n",
      "dense_9 (Dense)              (None, 10)                2570      \n",
      "=================================================================\n",
      "Total params: 1,050,573\n",
      "Trainable params: 1,049,482\n",
      "Non-trainable params: 1,091\n",
      "_________________________________________________________________\n"
     ]
    }
   ],
   "source": [
    "model.summary()"
   ]
  },
  {
   "cell_type": "markdown",
   "metadata": {
    "colab": {},
    "colab_type": "code",
    "id": "u48C9WQ774n4"
   },
   "source": [
    "## Kompilieren des Modells"
   ]
  },
  {
   "cell_type": "code",
   "execution_count": 20,
   "metadata": {},
   "outputs": [],
   "source": [
    "model.compile(optimizer = our_optimizer,\n",
    "                  loss= our_loss_function,\n",
    "                  metrics = ['accuracy'])"
   ]
  },
  {
   "cell_type": "markdown",
   "metadata": {
    "colab_type": "text",
    "id": "FdcLz18_p5z_"
   },
   "source": [
    "## Training"
   ]
  },
  {
   "cell_type": "code",
   "execution_count": 22,
   "metadata": {
    "scrolled": false
   },
   "outputs": [],
   "source": [
    "training_dataset = AugmentationSequence(x_train2, y_train2, BATCH_SIZE, dataset_aumentation)\n",
    "validation_dataset = AugmentationSequence(x_validate2, y_validate2, BATCH_SIZE)"
   ]
  },
  {
   "cell_type": "code",
   "execution_count": 23,
   "metadata": {
    "colab": {},
    "colab_type": "code",
    "id": "Ta8C6sWgVS4g",
    "scrolled": true
   },
   "outputs": [
    {
     "name": "stdout",
     "output_type": "stream",
     "text": [
      "375/375 [==============================] - 88s 222ms/step - loss: 5.5190 - accuracy: 0.3384 - val_loss: 4.1711 - val_accuracy: 0.7608\n"
     ]
    }
   ],
   "source": [
    "history = model.fit(\n",
    "    training_dataset,\n",
    "    epochs=NUM_EPOCHS,\n",
    "    #steps_per_epoch=len(x_train2)/ BATCH_SIZE,\n",
    "    verbose=1,\n",
    "    validation_data=validation_dataset,\n",
    "    #validation_steps=len(x_validate2)/ BATCH_SIZE,\n",
    "    )"
   ]
  },
  {
   "cell_type": "code",
   "execution_count": 24,
   "metadata": {},
   "outputs": [
    {
     "name": "stdout",
     "output_type": "stream",
     "text": [
      "INFO:tensorflow:Assets written to: trained_models/model_04062021_185854\\assets\n"
     ]
    }
   ],
   "source": [
    "# Saving the model \n",
    "model.save(\"trained_models/model_{}\".format(datetime.datetime.now().strftime(\"%d%m%Y_%H%M%S\")))"
   ]
  },
  {
   "cell_type": "markdown",
   "metadata": {},
   "source": [
    "## Prediction"
   ]
  },
  {
   "cell_type": "markdown",
   "metadata": {},
   "source": [
    "We use a custom algorithm for image prediction.\n",
    "### Grid Search\n",
    "When predicting, the image is augmented in multiple ways before forwaring it to the model. Each of these augmented images is evaluated by the model. Afterwards the mean of the resulting categories is calculated and used as actual prediction.\n",
    "\n",
    "### Impact\n",
    "This method results in a more stable prediction.  <span style=\"color:red\">*TODO BEWEISE + Mehr schreiben*</span>."
   ]
  },
  {
   "cell_type": "code",
   "execution_count": 25,
   "metadata": {},
   "outputs": [],
   "source": [
    "def predict(input_data: np.ndarray) -> np.ndarray:\n",
    "    assert(input_data[0].shape == (28,28,1))\n",
    "    augmentedResults = []\n",
    "    \n",
    "    augmentedResults.append(model.predict(input_data))\n",
    "    \n",
    "    flipped_images_vertical, flipped_images_horizontal, rot_images_90, rot_images_270 = augment_images(input_data)     \n",
    "    augmentedResults.append(model.predict(flipped_images_vertical))\n",
    "    augmentedResults.append(model.predict(flipped_images_horizontal))\n",
    "    augmentedResults.append(model.predict(rot_images_90))\n",
    "    augmentedResults.append(model.predict(rot_images_270))\n",
    "    \n",
    "    return (np.sum(augmentedResults, axis=0) / len(augmentedResults))\n",
    "\n",
    "# Returns the accuracy\n",
    "def evaluate(input_data: np.ndarray, input_labels: np.ndarray) -> float:\n",
    "    assert(len(input_data) == len(input_labels))\n",
    "    prediction = predict(input_data)\n",
    "    prediction = np.argmax(prediction, axis = 1)\n",
    "    \n",
    "    return np.count_nonzero(prediction == input_labels) / len(input_labels)"
   ]
  },
  {
   "cell_type": "markdown",
   "metadata": {},
   "source": [
    "## Visualization"
   ]
  },
  {
   "cell_type": "code",
   "execution_count": 26,
   "metadata": {
    "colab": {
     "base_uri": "https://localhost:8080/",
     "height": 1000
    },
    "colab_type": "code",
    "executionInfo": {
     "elapsed": 56715,
     "status": "ok",
     "timestamp": 1588762131976,
     "user": {
      "displayName": "Philipp Luchner",
      "photoUrl": "",
      "userId": "06440293557215660939"
     },
     "user_tz": -120
    },
    "id": "xv1ZHQDKVTNf",
    "outputId": "9ab698cd-c2ac-4b17-aeb5-f978cd63ae83"
   },
   "outputs": [
    {
     "name": "stdout",
     "output_type": "stream",
     "text": [
      "Test Accuracy without grid: 0.7608\n",
      "Test Accuracy with grid: 0.7468\n"
     ]
    }
   ],
   "source": [
    "score_non_grid = model.evaluate(x_validate2,y_validate2,verbose=0)\n",
    "score_grid = evaluate(x_validate2,y_validate2)\n",
    "print('Test Accuracy without grid: {:.4f}'.format(score_non_grid[1]))\n",
    "print('Test Accuracy with grid: {:.4f}'.format(score_grid))"
   ]
  },
  {
   "cell_type": "code",
   "execution_count": 27,
   "metadata": {},
   "outputs": [
    {
     "data": {
      "image/png": "[encoded data removed]",
      "text/plain": [
       "<Figure size 1440x720 with 1 Axes>"
      ]
     },
     "metadata": {
      "needs_background": "light"
     },
     "output_type": "display_data"
    }
   ],
   "source": [
    "if SHOW_EXPLANATORY_GRAPHS:\n",
    "    # Training Loss\n",
    "    plt.figure(figsize=(20, 10))\n",
    "\n",
    "    plt.plot(history.history['loss'], label='Loss')\n",
    "    plt.plot(history.history['val_loss'], label='Validation Loss')\n",
    "    plt.legend()\n",
    "    plt.title('Training - Loss Function')"
   ]
  },
  {
   "cell_type": "code",
   "execution_count": 28,
   "metadata": {},
   "outputs": [
    {
     "data": {
      "image/png": "[encoded data removed]",
      "text/plain": [
       "<Figure size 1440x720 with 1 Axes>"
      ]
     },
     "metadata": {
      "needs_background": "light"
     },
     "output_type": "display_data"
    }
   ],
   "source": [
    "if SHOW_EXPLANATORY_GRAPHS:\n",
    "    # Training Accuracy\n",
    "    plt.figure(figsize=(20, 10))\n",
    "\n",
    "    plt.plot(history.history['accuracy'], label='Accuracy')\n",
    "    plt.plot(history.history['val_accuracy'], label='Validation Accuracy')\n",
    "    plt.legend()\n",
    "    plt.title('Training - Accuracy Function')"
   ]
  },
  {
   "cell_type": "code",
   "execution_count": 29,
   "metadata": {},
   "outputs": [
    {
     "data": {
      "image/png": "[encoded data removed]",
      "text/plain": [
       "<Figure size 720x504 with 2 Axes>"
      ]
     },
     "metadata": {
      "needs_background": "light"
     },
     "output_type": "display_data"
    }
   ],
   "source": [
    "if SHOW_EXPLANATORY_GRAPHS:\n",
    "    # Confusion matrix with grid\n",
    "    val_pred = np.argmax(predict(x_validate2), axis = 1)\n",
    "\n",
    "    conf_matrix = pd.DataFrame(confusion_matrix(y_validate2, val_pred), index=[\"T-shirt/top\", \"Trouser\", \"Pullover\", \"Dress\", \"Coat\", \"Sandal\", \"Shirt\", \"Sneaker\",\"Bag\", \"Ankle boot\"])\n",
    "    plt.figure(figsize = (10,7))\n",
    "    sns.heatmap(conf_matrix, annot=True)"
   ]
  },
  {
   "cell_type": "code",
   "execution_count": 30,
   "metadata": {},
   "outputs": [
    {
     "data": {
      "image/png": "[encoded data removed]",
      "text/plain": [
       "<Figure size 720x504 with 2 Axes>"
      ]
     },
     "metadata": {
      "needs_background": "light"
     },
     "output_type": "display_data"
    }
   ],
   "source": [
    "if SHOW_EXPLANATORY_GRAPHS:\n",
    "    # Confusion matrix without grid\n",
    "    val_pred = np.argmax(model.predict(x_validate2), axis = 1)\n",
    "\n",
    "    conf_matrix = pd.DataFrame(confusion_matrix(y_validate2, val_pred), index=[\"T-shirt/top\", \"Trouser\", \"Pullover\", \"Dress\", \"Coat\", \"Sandal\", \"Shirt\", \"Sneaker\",\"Bag\", \"Ankle boot\"])\n",
    "    plt.figure(figsize = (10,7))\n",
    "    sns.heatmap(conf_matrix, annot=True)"
   ]
  },
  {
   "cell_type": "markdown",
   "metadata": {
    "colab_type": "text",
    "id": "X0A6sAXubTIy"
   },
   "source": [
    "## Submission"
   ]
  },
  {
   "cell_type": "code",
   "execution_count": 31,
   "metadata": {
    "colab": {
     "base_uri": "https://localhost:8080/",
     "height": 363
    },
    "colab_type": "code",
    "executionInfo": {
     "elapsed": 899,
     "status": "ok",
     "timestamp": 1588762760277,
     "user": {
      "displayName": "Philipp Luchner",
      "photoUrl": "",
      "userId": "06440293557215660939"
     },
     "user_tz": -120
    },
    "id": "GYlssBbUiqia",
    "outputId": "01aa38ae-2ae2-4a39-e7d7-22aff7ec462e"
   },
   "outputs": [],
   "source": [
    "# predict results\n",
    "results = model.predict(data_submission)\n",
    "\n",
    "# select the indix with the maximum probability\n",
    "results = np.argmax(results,axis = 1)\n",
    "\n",
    "results = pd.Series(results,name=\"Label\")\n",
    "data_results = pd.DataFrame(results)\n",
    "data_results.to_csv('fashion_mnist_pred_team1.csv', index=False)#Bitte statt X eure Gruppennummer einfügen! "
   ]
  },
  {
   "cell_type": "markdown",
   "metadata": {},
   "source": [
    "## Our Learnings\n",
    "In the following part we reflect on our network and mention multiple points that could be improved for better classification performance."
   ]
  },
  {
   "cell_type": "markdown",
   "metadata": {},
   "source": [
    "### Parameters\n",
    "Currently the hyperparameter tuning is done manually, but there are libraries (Like [this one](https://keras-team.github.io/keras-tuner/)) that implement systematic hyperparameter tuning. Since this process takes long and is very expensive (each setting needs to be tested after each other), and we (sadly) do not have the computational power to execute the process, we decided against using it. \n"
   ]
  },
  {
   "cell_type": "markdown",
   "metadata": {},
   "source": [
    "### Network Structure\n",
    "In order to keep the computational complexity as low as possible we decided to use a more shallow structure.\n",
    "Even though it performs very well research as well as the [official zalando github](https://github.com/zalandoresearch/fashion-mnist) suggest that a deeper network topography contributes to a more accurate classificaion. One of the inspirations for our network structure ([article here](https://medium.com/@mjbhobe/classifying-fashion-with-a-keras-cnn-achieving-94-accuracy-part-3-c7ca2919232b)) also mentions the benefits of a deeper network.\n",
    "\n",
    "Additionally other structures like DenseNet (described in [this paper](https://arxiv.org/abs/1608.06993)) or ResNet variations can be used to boost accuracy. Tensorflow offers a wide range of pretrained models that can be easily used ([list here](https://www.tensorflow.org/api_docs/python/tf/keras/applications)).\n",
    "\n",
    "Also using cross validation (as described [here](https://towardsdatascience.com/3-methods-to-reduce-overfitting-of-machine-learning-models-4a7e2c1da9ef) and [here](https://www.machinecurve.com/index.php/2020/02/18/how-to-use-k-fold-cross-validation-with-keras/)) can help with minimizing overfitting, but it is computationally rather expensive since multiple models have to be trained."
   ]
  },
  {
   "cell_type": "markdown",
   "metadata": {},
   "source": [
    "### Data Preprocessing\n",
    "While we used rudimentary data preprocessing functions, the model can benefit from a more extensive use of these methods. [This library](https://github.com/mdbloice/Augmentor) implements various image preprocessing functions that are well-suited for this purpose. Nethertheless the currently implemented preprocessor already increased the model's capability of generalization. A downside is that the accuracy fluctautes heavily in the beginning and training takes more epochs."
   ]
  },
  {
   "cell_type": "markdown",
   "metadata": {},
   "source": [
    "### Errors\n",
    "The confusion matrix shows, that the network displays poor classification capabilities on some classes (like dresses and shirts) whereas it has no difficulty categorizing others (i.e. boots and bags). Sadly we were not able to eliminate these shortcomings. The main problem for this is the lack of training data, which cannot fully be overcome by data augmentation. However, as we have mentioned before, we believe that a higher accuracy is only obtainable for much deeper networks. \n",
    "Another problem we face is that our model still tends to overfit the training data. We have already tackled this issue by using batch normalisation layers, l2 penalty and dropout without complete success. Surprisingly, we found that increasing measures to overcome overfitting decreased the models overall performance which is why we chose not to tackle overfitting more."
   ]
  },
  {
   "cell_type": "code",
   "execution_count": null,
   "metadata": {},
   "outputs": [],
   "source": []
  }
 ],
 "metadata": {
  "accelerator": "GPU",
  "colab": {
   "collapsed_sections": [],
   "name": "digit_recognition_baseline_final.ipynb",
   "provenance": [
    {
     "file_id": "https://github.com/tensorflow/docs/blob/master/site/en/tutorials/quickstart/advanced.ipynb",
     "timestamp": 1587494630831
    }
   ],
   "toc_visible": true
  },
  "kernelspec": {
   "display_name": "Python 3",
   "language": "python",
   "name": "python3"
  },
  "language_info": {
   "codemirror_mode": {
    "name": "ipython",
    "version": 3
   },
   "file_extension": ".py",
   "mimetype": "text/x-python",
   "name": "python",
   "nbconvert_exporter": "python",
   "pygments_lexer": "ipython3",
   "version": "3.8.8"
  }
 },
 "nbformat": 4,
 "nbformat_minor": 4
}
